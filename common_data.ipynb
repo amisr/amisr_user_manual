{
 "cells": [
  {
   "cell_type": "markdown",
   "id": "7568a498-651b-42ad-b14c-1e5d3efd76f8",
   "metadata": {},
   "source": [
    "# Common Data Fields\n",
    "This notebook will walk through how to access some of the more common data fields from the SRI hdf5 data files.  This should be treated as a quick reference for common scientific applications and is NOT intended to be a comprehensive map of everything in these files.  Refer to metadata contained within the files for descriptions of other arrays."
   ]
  },
  {
   "cell_type": "code",
   "execution_count": 4,
   "id": "b3dcde56-e856-4dd4-9c16-03ec7ae18bc5",
   "metadata": {},
   "outputs": [],
   "source": [
    "import h5py\n",
    "import os\n",
    "import urllib.request"
   ]
  },
  {
   "cell_type": "markdown",
   "id": "2c6e92aa-3487-4e6d-9fb6-15d8e143ff17",
   "metadata": {
    "tags": []
   },
   "source": [
    "Download files that will be used in this tutorial."
   ]
  },
  {
   "cell_type": "code",
   "execution_count": 5,
   "id": "0c8b708a-cf7c-4e1c-8b69-d9fd04032d38",
   "metadata": {
    "tags": []
   },
   "outputs": [],
   "source": [
    "# Download the file that we need to run these examples\n",
    "filename = 'data/20200207.001_lp_5min-fitcal.h5'\n",
    "\n",
    "if not os.path.exists(filename):\n",
    "    url='https://data.amisr.com/database/dbase_site_media/PFISR/Experiments/20200207.001/DataFiles/20200207.001_lp_5min-fitcal.h5'\n",
    "\n",
    "    print('Downloading data file...')\n",
    "    urllib.request.urlretrieve(url, filename)\n",
    "\n",
    "    print('...Done!')\n"
   ]
  },
  {
   "cell_type": "markdown",
   "id": "fb00a4ee-8509-4c68-8aa4-c1dae7312a10",
   "metadata": {},
   "source": [
    "Use h5py to open the hdf5 data file."
   ]
  },
  {
   "cell_type": "code",
   "execution_count": 2,
   "id": "8eef37ac-e0df-4957-bceb-96dca94b898d",
   "metadata": {},
   "outputs": [],
   "source": [
    "h5 = h5py.File(filename, 'r')"
   ]
  },
  {
   "cell_type": "markdown",
   "id": "dc3e4cbd-eeaa-44c0-b290-79ee0f47442a",
   "metadata": {},
   "source": [
    "Throughout this notebook, the expected dimensions of each data field will be listed using the following definitions:\n",
    "- Nrecords: Number of time records\n",
    "- Nbeams: Number of radar beams\n",
    "- Nranges: Number of radar range gates"
   ]
  },
  {
   "cell_type": "markdown",
   "id": "4edc4000-9772-4480-a569-2eb4949f3e1f",
   "metadata": {},
   "source": [
    "## Electron Density\n",
    "\n",
    "**Units:** m$^{-3}$\n",
    "\n",
    "**Dimensions:** Nrecords x Nbeams x Nranges"
   ]
  },
  {
   "cell_type": "code",
   "execution_count": 3,
   "id": "ccf58f78-2e52-4dfc-8ede-50505fe65999",
   "metadata": {},
   "outputs": [
    {
     "name": "stdout",
     "output_type": "stream",
     "text": [
      "(188, 11, 74)\n"
     ]
    }
   ],
   "source": [
    "Ne = h5['FittedParams/Ne'][:]\n",
    "print(Ne.shape)"
   ]
  },
  {
   "cell_type": "markdown",
   "id": "6c6b149e-a4cc-4f46-ac1e-bed40c737f3c",
   "metadata": {},
   "source": [
    "## Ion Temperature\n",
    "The fourth index corresponds to the ion species (0 = O+).  Refer to [Fits Array](fits) for more information.\n",
    "\n",
    "**Units:** K\n",
    "\n",
    "**Dimensions:** Nrecords x Nbeams x Nranges"
   ]
  },
  {
   "cell_type": "code",
   "execution_count": 4,
   "id": "321796a2-9b40-4a0e-8b34-428aa6172511",
   "metadata": {},
   "outputs": [
    {
     "name": "stdout",
     "output_type": "stream",
     "text": [
      "(188, 11, 74)\n"
     ]
    }
   ],
   "source": [
    "Ti = h5['FittedParams/Fits'][:,:,:,0,1]\n",
    "print(Ti.shape)"
   ]
  },
  {
   "cell_type": "markdown",
   "id": "00b09b9d-f668-4f53-b378-45aff183a1bf",
   "metadata": {
    "tags": []
   },
   "source": [
    "## Electron Temperature\n",
    "\n",
    "Refer to [Fits Array](fits) for more information.\n",
    "\n",
    "**Units:** K\n",
    "\n",
    "**Dimensions:** Nrecords x Nbeams x Nranges"
   ]
  },
  {
   "cell_type": "code",
   "execution_count": 5,
   "id": "d5861d8c-6ea9-439d-b2cd-d32f61ad51ec",
   "metadata": {},
   "outputs": [
    {
     "name": "stdout",
     "output_type": "stream",
     "text": [
      "(188, 11, 74)\n"
     ]
    }
   ],
   "source": [
    "Te = h5['FittedParams/Fits'][:,:,:,-1,1]\n",
    "print(Te.shape)"
   ]
  },
  {
   "cell_type": "markdown",
   "id": "2f645b19-cf3c-40f1-97f1-d384b8d9f5a3",
   "metadata": {},
   "source": [
    "## Line-of-Sight Velocity\n",
    "\n",
    "Refer to [Fits Array](fits) for more information.\n",
    "\n",
    "**Units:** m/s\n",
    "\n",
    "**Dimensions:** Nrecords x Nbeams x Nranges"
   ]
  },
  {
   "cell_type": "code",
   "execution_count": 6,
   "id": "10effd79-0a95-49f2-bb90-6c6919d6007c",
   "metadata": {},
   "outputs": [
    {
     "name": "stdout",
     "output_type": "stream",
     "text": [
      "(188, 11, 74)\n"
     ]
    }
   ],
   "source": [
    "Vlos = h5['FittedParams/Fits'][:,:,:,0,3]\n",
    "print(Vlos.shape)"
   ]
  },
  {
   "cell_type": "markdown",
   "id": "371764c3-634b-4103-8d9b-60f8eae48427",
   "metadata": {},
   "source": [
    "## Time\n",
    "The `Time` group lists timestamps in a variety of formats, but `UnixTime` (seconds from January 1, 1970) is often most convenient for programming purposes.\n",
    "\n",
    "**Dimensions:** Nrecords x 2"
   ]
  },
  {
   "cell_type": "code",
   "execution_count": 7,
   "id": "1ed95be6-9027-470c-8268-11527ea96a0e",
   "metadata": {},
   "outputs": [
    {
     "name": "stdout",
     "output_type": "stream",
     "text": [
      "(188, 2)\n"
     ]
    }
   ],
   "source": [
    "utime = h5['Time/UnixTime'][:]\n",
    "print(utime.shape)"
   ]
  },
  {
   "cell_type": "markdown",
   "id": "7f1e4f0c-f80f-48c4-adc1-46c418c6cc68",
   "metadata": {},
   "source": [
    "Note the two columns in this array correspond to the start time and end time of each integration period.  If you need a 1D array of time stamps (common for most plotting and basic analysis), it is generally acceptable to take either just the first column (start times) or the midpoint of the interval."
   ]
  },
  {
   "cell_type": "code",
   "execution_count": 8,
   "id": "3cc6cbd3-30f8-48b1-87fe-30992277f552",
   "metadata": {},
   "outputs": [],
   "source": [
    "# start times\n",
    "utime_1d = utime[:,0]\n",
    "\n",
    "# midpoints\n",
    "import numpy as np\n",
    "utime_1d = np.mean(utime, axis=1)"
   ]
  },
  {
   "cell_type": "markdown",
   "id": "75a03680-28dc-4ebc-9716-6bc88fbfd50b",
   "metadata": {},
   "source": [
    "To convert these Unix timestamps to datetime objects, use either the native python [datetime](https://docs.python.org/3/library/datetime.html) library or the [numpy datetime](https://numpy.org/doc/stable/reference/arrays.datetime.html) functionality."
   ]
  },
  {
   "cell_type": "code",
   "execution_count": 9,
   "id": "fcf19997-3152-407c-891f-7c0a6bc50fd8",
   "metadata": {},
   "outputs": [],
   "source": [
    "import datetime as dt\n",
    "import numpy as np\n",
    "\n",
    "# native python datetime library\n",
    "time = [dt.datetime.utcfromtimestamp(ut) for ut in utime_1d]\n",
    "\n",
    "# numpy datetime\n",
    "time = utime_1d.astype('datetime64[s]')"
   ]
  },
  {
   "cell_type": "markdown",
   "id": "7a249504-f010-444b-9a3f-0280d3419ff8",
   "metadata": {},
   "source": [
    "## Geographic Position\n",
    "Geodetic latitude, longitude, and altitude of the center of each radar bin.\n",
    "\n",
    "**Dimensions:** Nbeams x Nranges"
   ]
  },
  {
   "cell_type": "code",
   "execution_count": 10,
   "id": "191968c3-8c41-463f-8c49-d17702f09be7",
   "metadata": {},
   "outputs": [
    {
     "name": "stdout",
     "output_type": "stream",
     "text": [
      "(11, 74) (11, 74) (11, 74)\n"
     ]
    }
   ],
   "source": [
    "glat = h5['Geomag/Latitude'][:]\n",
    "glon = h5['Geomag/Longitude'][:]\n",
    "galt = h5['Geomag/Altitude'][:]\n",
    "\n",
    "print(glat.shape, glon.shape, galt.shape)"
   ]
  },
  {
   "cell_type": "markdown",
   "id": "2b108261-aba0-41cd-a532-4c0fee995eaf",
   "metadata": {},
   "source": [
    "## Geomagnetic Position\n",
    "Geomagnetic latitude and longitude of the center of each radar bin.  If your application is dependent on highly accurate magnetic position relative to some external dataset, it is recommended that you start with the geographic position and calculate the conversion to magnetic coordinates yourself to avoid ambiguity with different magnetic coordinate systems and IGRF versions.\n",
    "\n",
    "**Dimensions:** Nbeams x Nranges"
   ]
  },
  {
   "cell_type": "code",
   "execution_count": 11,
   "id": "6ad4d752-393e-42d5-a043-df6514266607",
   "metadata": {
    "tags": []
   },
   "outputs": [
    {
     "name": "stdout",
     "output_type": "stream",
     "text": [
      "(11, 74) (11, 74)\n"
     ]
    }
   ],
   "source": [
    "mlat = h5['Geomag/MagneticLatitude'][:]\n",
    "mlon = h5['Geomag/MagneticLongitude'][:]\n",
    "\n",
    "print(mlat.shape, mlon.shape)"
   ]
  },
  {
   "cell_type": "markdown",
   "id": "d80c7ef2-b4c1-42e8-b4a1-11c506b728e1",
   "metadata": {},
   "source": [
    "## Beam Positions\n",
    "The beam azimuths and elevations are contained in the `BeamCodes` array.\n",
    "\n",
    "**Dimensions:** Nbeams"
   ]
  },
  {
   "cell_type": "code",
   "execution_count": 12,
   "id": "58a51530-f3fd-4ec5-b8ff-b6f84a70bfb7",
   "metadata": {},
   "outputs": [
    {
     "name": "stdout",
     "output_type": "stream",
     "text": [
      "(11,) (11,)\n"
     ]
    }
   ],
   "source": [
    "az = h5['BeamCodes'][:,1]\n",
    "el = h5['BeamCodes'][:,2]\n",
    "\n",
    "print(az.shape, el.shape)"
   ]
  },
  {
   "cell_type": "markdown",
   "id": "ee04c8c7-d27b-4639-b8d3-7f3fdc06f9ce",
   "metadata": {},
   "source": [
    "## Site Info\n",
    "Various information about the radar site and its coordinates are contained within the `Site` group.  These are all scalar parameters.  Magnetic coordinates are also available."
   ]
  },
  {
   "cell_type": "code",
   "execution_count": 13,
   "id": "cc2d6887-4169-4bb9-862b-9410a128da5c",
   "metadata": {},
   "outputs": [
    {
     "name": "stdout",
     "output_type": "stream",
     "text": [
      "Poker flat radar 65.12992 -147.47104 213.0\n"
     ]
    }
   ],
   "source": [
    "site_name = h5['Site/Name'][()].decode('ascii')\n",
    "site_lat = h5['Site/Latitude'][()]\n",
    "site_lon = h5['Site/Longitude'][()]\n",
    "site_alt = h5['Site/Altitude'][()]\n",
    "\n",
    "print(site_name, site_lat, site_lon, site_alt)"
   ]
  },
  {
   "cell_type": "markdown",
   "id": "06177a24-a4fc-4f6e-9151-4cffd3896b1d",
   "metadata": {
    "tags": []
   },
   "source": [
    "(fits)=\n",
    "## Fits Array\n",
    "\n",
    "The `FittedParams/Fits` array contains all fitted parameters aside from electron density (Ti, Te, Vlos), plus collision frequency and fractional composition.  It is a five dimensional array indexed as follows:\n",
    "\n",
    "`Fits[record][beam][range][species][parameter]`\n",
    "\n",
    "The `species` index refers to either ion species or electrons.  The ion species can be determined from the `IonMass` array.  If you are interested in a specific species, find its mass in `IonMass` then use that index in the `Fits` array."
   ]
  },
  {
   "cell_type": "code",
   "execution_count": 14,
   "id": "4be941c8-df09-459e-b764-2b3d678c3f4f",
   "metadata": {},
   "outputs": [
    {
     "name": "stdout",
     "output_type": "stream",
     "text": [
      "[16. 32. 30. 28. 14.]\n"
     ]
    }
   ],
   "source": [
    "print(h5['FittedParams/IonMass'][:])"
   ]
  },
  {
   "cell_type": "markdown",
   "id": "930066cf-e2b3-467c-af4f-66c9fd2b38a6",
   "metadata": {},
   "source": [
    "These correspond to the following species:\n",
    "\n",
    "| Mass | Species |\n",
    "|------|---------|\n",
    "| 16   | O$^+$   |\n",
    "| 32   | O$_2^+$ |\n",
    "| 30   | NO$^+$  |\n",
    "| 28   | N$_2^+$ |\n",
    "| 14   | N$^+$   |\n",
    "\n",
    "Note that the fourth dimension of the `Fits` array is one element longer than the `IonMass` array."
   ]
  },
  {
   "cell_type": "code",
   "execution_count": 15,
   "id": "0b2876dd-53fd-4aac-bd48-50b33f63a878",
   "metadata": {},
   "outputs": [
    {
     "name": "stdout",
     "output_type": "stream",
     "text": [
      "(188, 11, 74, 6, 4)\n"
     ]
    }
   ],
   "source": [
    "fits = h5['FittedParams/Fits'][:]\n",
    "print(fits.shape)"
   ]
  },
  {
   "cell_type": "markdown",
   "id": "7d7289a0-df7b-4578-a794-39a055eac80b",
   "metadata": {},
   "source": [
    "The last spot in this is dimension is always reserved for electrons, which can be reliably selected with the index -1.  Different AMISR data files may have fit for a different number of species, however, O+ will always be first and electrons will always be last.\n",
    "\n",
    "The last dimension of the `Fits` array gives the parameter, always in this order:\n",
    "\n",
    "`fraction, temperature, collision frequency, LOS velocity`\n",
    "\n",
    "The last dimension should be indexed by whatever parameter you want to pull out of the array."
   ]
  },
  {
   "cell_type": "code",
   "execution_count": 16,
   "id": "f27f1bf4-c7c0-4649-82d1-77d43991fad1",
   "metadata": {},
   "outputs": [],
   "source": [
    "# Close h5 object\n",
    "h5.close()"
   ]
  },
  {
   "cell_type": "code",
   "execution_count": null,
   "id": "8c78a009-d7ca-4bd0-b523-35e7efe88d50",
   "metadata": {},
   "outputs": [],
   "source": []
  }
 ],
 "metadata": {
  "kernelspec": {
   "display_name": "Python 3 (ipykernel)",
   "language": "python",
   "name": "python3"
  },
  "language_info": {
   "codemirror_mode": {
    "name": "ipython",
    "version": 3
   },
   "file_extension": ".py",
   "mimetype": "text/x-python",
   "name": "python",
   "nbconvert_exporter": "python",
   "pygments_lexer": "ipython3",
   "version": "3.10.9"
  }
 },
 "nbformat": 4,
 "nbformat_minor": 5
}

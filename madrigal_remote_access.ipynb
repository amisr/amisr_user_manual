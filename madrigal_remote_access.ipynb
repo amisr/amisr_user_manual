{
 "cells": [
  {
   "cell_type": "markdown",
   "id": "fd9785bf-6b14-467e-a35f-6d83dfb32e27",
   "metadata": {},
   "source": [
    "# Remote Access "
   ]
  },
  {
   "cell_type": "markdown",
   "id": "aff361c1-adea-45cb-9056-7e537084938a",
   "metadata": {},
   "source": [
    "Madrigal database can be accessed from python by using the Madrigal python remote data access API to download one or multiple experiments. "
   ]
  },
  {
   "cell_type": "code",
   "execution_count": 12,
   "id": "7c373d41-a977-440d-b9f1-decdcfdc8632",
   "metadata": {},
   "outputs": [],
   "source": [
    "import madrigalWeb.madrigalWeb"
   ]
  },
  {
   "cell_type": "code",
   "execution_count": 13,
   "id": "6f4dca93-25c0-470b-9daf-c0ab0b5aadfd",
   "metadata": {},
   "outputs": [],
   "source": [
    "#Credentials\n",
    "user_fullname = 'username'\n",
    "user_email = 'email@email.com'\n",
    "user_affiliation = 'ABC'"
   ]
  },
  {
   "cell_type": "code",
   "execution_count": 14,
   "id": "3db5d4b8-db7d-44bc-9df8-833f97aeed48",
   "metadata": {},
   "outputs": [],
   "source": [
    "madrigalUrl='http://cedar.openmadrigal.org'\n",
    "data = madrigalWeb.madrigalWeb.MadrigalData(madrigalUrl)"
   ]
  },
  {
   "cell_type": "markdown",
   "id": "5441931f-abcd-4502-8431-b6b929413383",
   "metadata": {},
   "source": [
    "Specify the Radar you want to access by its code and the timeframe for the experiment/experiments you want to retrieve.\n",
    "- PFISR radar code = 61\n",
    "- RISR-N radar code = 91"
   ]
  },
  {
   "cell_type": "markdown",
   "id": "f1f5f378-9ee8-4ba2-9320-ba5a2d124413",
   "metadata": {},
   "source": [
    "To retrieve all radars,run the script: "
   ]
  },
  {
   "cell_type": "markdown",
   "id": "c98a1255-9ccc-4312-bf53-25c63008ab1e",
   "metadata": {},
   "source": [
    "code = 61 \n",
    "year = 2024\n",
    "month = 1\n",
    "day = 8\n",
    "hour = 0 "
   ]
  },
  {
   "cell_type": "code",
   "execution_count": 17,
   "id": "2943c439-3242-4bdd-a7fd-a9c876045ae9",
   "metadata": {},
   "outputs": [],
   "source": [
    "expList = data.getExperiments(code,year,month,day,hour,0,0,year,month,day,hour+1,0,0)"
   ]
  },
  {
   "cell_type": "code",
   "execution_count": 18,
   "id": "3f374377-f6ce-4c1e-852a-b1ec90b77849",
   "metadata": {},
   "outputs": [
    {
     "name": "stdout",
     "output_type": "stream",
     "text": [
      "id: 100278612\n",
      "realUrl: http://cedar.openmadrigal.org/showExperiment/?experiment_list=100278612\n",
      "url: http://cedar.openmadrigal.org/madtoc/experiments4/2024/pfa/07jan24b\n",
      "name: MSWinds27H.v03 - D-region E-region F-region local measurements\n",
      "siteid: 10\n",
      "sitename: CEDAR\n",
      "instcode: 61\n",
      "instname: Poker Flat IS Radar\n",
      "startyear: 2024\n",
      "startmonth: 1\n",
      "startday: 7\n",
      "starthour: 7\n",
      "startmin: 0\n",
      "startsec: 52\n",
      "endyear: 2024\n",
      "endmonth: 1\n",
      "endday: 8\n",
      "endhour: 7\n",
      "endmin: 0\n",
      "endsec: 1\n",
      "isLocal: True\n",
      "madrigalUrl: http://cedar.openmadrigal.org/\n",
      "PI: Asti Bhatt\n",
      "PIEmail: asti.bhatt@sri.com\n",
      "uttimestamp: 1709108303\n",
      "access: 2\n",
      "Madrigal version: 3.2\n",
      "\n"
     ]
    }
   ],
   "source": [
    "for exp in expList:\n",
    "    print(str(exp))\n"
   ]
  },
  {
   "cell_type": "markdown",
   "id": "cfdb95a6-5630-4b14-ad8b-71200d21e919",
   "metadata": {},
   "source": [
    "Download the file"
   ]
  },
  {
   "cell_type": "code",
   "execution_count": 19,
   "id": "3331d35e-0d09-4d7e-931e-fa7df80ef6d3",
   "metadata": {},
   "outputs": [
    {
     "name": "stdout",
     "output_type": "stream",
     "text": [
      "filename: pfa20240107.002_lp_fit_05min.001.h5\n",
      "/opt/cedar3/experiments4/2024/pfa/07jan24b/pfa20240107.002_lp_fit_05min.001.h5\n"
     ]
    }
   ],
   "source": [
    "fileList = data.getExperimentFiles(expList[0].id)\n",
    "thisFilename = ''\n",
    "\n",
    "for thisFile in fileList:\n",
    "    if thisFile.category == 1:\n",
    "        #print (str(thisFile.name) + '\\n')\n",
    "        thisFilename = thisFile.name\n",
    "        if  'lp_fit_05min.001' in thisFilename:\n",
    "            break\n",
    "\n",
    "downloaded_file = str(thisFile.name).split('/')[-1]\n",
    "print('filename:', downloaded_file)\n"
   ]
  },
  {
   "cell_type": "code",
   "execution_count": 21,
   "id": "68930821-0bc7-4e24-b134-035a6b364d49",
   "metadata": {},
   "outputs": [],
   "source": [
    "file = data.downloadFile(thisFilename, downloaded_file, \n",
    "                               user_fullname, user_email, user_affiliation,'hdf5')    "
   ]
  },
  {
   "cell_type": "code",
   "execution_count": null,
   "id": "41bff702-33d4-4f7c-a268-844b2e24623f",
   "metadata": {},
   "outputs": [],
   "source": []
  }
 ],
 "metadata": {
  "kernelspec": {
   "display_name": "Python 3 (ipykernel)",
   "language": "python",
   "name": "python3"
  },
  "language_info": {
   "codemirror_mode": {
    "name": "ipython",
    "version": 3
   },
   "file_extension": ".py",
   "mimetype": "text/x-python",
   "name": "python",
   "nbconvert_exporter": "python",
   "pygments_lexer": "ipython3",
   "version": "3.9.2"
  }
 },
 "nbformat": 4,
 "nbformat_minor": 5
}

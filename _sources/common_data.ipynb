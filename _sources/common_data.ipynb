{
 "cells": [
  {
   "cell_type": "markdown",
   "id": "7568a498-651b-42ad-b14c-1e5d3efd76f8",
   "metadata": {},
   "source": [
    "# Common Data Fields\n",
    "This notebook will walk through how to access some of the more common data fields from the SRI hdf5 data files.  This should be treated as a quick reference for common scientific applications and is NOT intended to be a comprehensive map of everything in these files.  Refer to metadata contained within the files for descriptions of other arrays."
   ]
  },
  {
   "cell_type": "code",
   "execution_count": 1,
   "id": "b3dcde56-e856-4dd4-9c16-03ec7ae18bc5",
   "metadata": {},
   "outputs": [],
   "source": [
    "import h5py"
   ]
  },
  {
   "cell_type": "code",
   "execution_count": 2,
   "id": "8eef37ac-e0df-4957-bceb-96dca94b898d",
   "metadata": {},
   "outputs": [],
   "source": [
    "filename = 'data/20200207.001_lp_5min-fitcal.h5'\n",
    "\n",
    "h5 = h5py.File(filename, 'r')"
   ]
  },
  {
   "cell_type": "markdown",
   "id": "dc3e4cbd-eeaa-44c0-b290-79ee0f47442a",
   "metadata": {},
   "source": [
    "Throughout this notebook, the expected dimensions of each data field will be listed using the following definitions:\n",
    "- Nrecords: Number of time records\n",
    "- Nbeams: Number of radar beams\n",
    "- Nranges: Number of radar range gates"
   ]
  },
  {
   "cell_type": "markdown",
   "id": "4edc4000-9772-4480-a569-2eb4949f3e1f",
   "metadata": {},
   "source": [
    "## Electron Density\n",
    "\n",
    "**Units:** m$^{-3}$\n",
    "\n",
    "**Dimensions:** Nrecords x Nbeams x Nranges"
   ]
  },
  {
   "cell_type": "code",
   "execution_count": 3,
   "id": "ccf58f78-2e52-4dfc-8ede-50505fe65999",
   "metadata": {},
   "outputs": [
    {
     "name": "stdout",
     "output_type": "stream",
     "text": [
      "(188, 11, 74)\n"
     ]
    }
   ],
   "source": [
    "ne = h5['FittedParams/Ne'][:]\n",
    "print(ne.shape)"
   ]
  },
  {
   "cell_type": "markdown",
   "id": "6c6b149e-a4cc-4f46-ac1e-bed40c737f3c",
   "metadata": {},
   "source": [
    "## Ion Temperature\n",
    "The fourth index corresponds to the ion species (0 = O+).\n",
    "\n",
    "**Units:** K\n",
    "\n",
    "**Dimensions:** Nrecords x Nbeams x Nranges"
   ]
  },
  {
   "cell_type": "code",
   "execution_count": 4,
   "id": "321796a2-9b40-4a0e-8b34-428aa6172511",
   "metadata": {},
   "outputs": [
    {
     "name": "stdout",
     "output_type": "stream",
     "text": [
      "(188, 11, 74)\n"
     ]
    }
   ],
   "source": [
    "Ti = h5['FittedParams/Fits'][:,:,:,0,1]\n",
    "print(Ti.shape)"
   ]
  },
  {
   "cell_type": "markdown",
   "id": "00b09b9d-f668-4f53-b378-45aff183a1bf",
   "metadata": {
    "tags": []
   },
   "source": [
    "## Electron Temperature\n",
    "\n",
    "**Units:** K\n",
    "\n",
    "**Dimensions:** Nrecords x Nbeams x Nranges"
   ]
  },
  {
   "cell_type": "code",
   "execution_count": 5,
   "id": "d5861d8c-6ea9-439d-b2cd-d32f61ad51ec",
   "metadata": {},
   "outputs": [
    {
     "name": "stdout",
     "output_type": "stream",
     "text": [
      "(188, 11, 74)\n"
     ]
    }
   ],
   "source": [
    "Te = h5['FittedParams/Fits'][:,:,:,-1,1]\n",
    "print(Te.shape)"
   ]
  },
  {
   "cell_type": "markdown",
   "id": "2f645b19-cf3c-40f1-97f1-d384b8d9f5a3",
   "metadata": {},
   "source": [
    "## Line-of-Sight Velocity\n",
    "\n",
    "**Units:** m/s\n",
    "\n",
    "**Dimensions:** Nrecords x Nbeams x Nranges"
   ]
  },
  {
   "cell_type": "code",
   "execution_count": 6,
   "id": "10effd79-0a95-49f2-bb90-6c6919d6007c",
   "metadata": {},
   "outputs": [
    {
     "name": "stdout",
     "output_type": "stream",
     "text": [
      "(188, 11, 74)\n"
     ]
    }
   ],
   "source": [
    "Vlos = h5['FittedParams/Fits'][:,:,:,-1,3]\n",
    "print(Vlos.shape)"
   ]
  },
  {
   "cell_type": "markdown",
   "id": "371764c3-634b-4103-8d9b-60f8eae48427",
   "metadata": {},
   "source": [
    "## Time\n",
    "The `Time` group lists timestamps in a variety of formats, but `UnixTime` (seconds from January 1, 1970) is often most convenient for programing purposes.\n",
    "\n",
    "**Dimensions:** Nrecords x 2"
   ]
  },
  {
   "cell_type": "code",
   "execution_count": 7,
   "id": "1ed95be6-9027-470c-8268-11527ea96a0e",
   "metadata": {},
   "outputs": [
    {
     "name": "stdout",
     "output_type": "stream",
     "text": [
      "(188, 2)\n"
     ]
    }
   ],
   "source": [
    "utime = h5['Time/UnixTime'][:]\n",
    "print(utime.shape)"
   ]
  },
  {
   "cell_type": "markdown",
   "id": "7f1e4f0c-f80f-48c4-adc1-46c418c6cc68",
   "metadata": {},
   "source": [
    "Note the two columns in this array correspond to the start and end of each integration period.  If you need a 1D array of time stamps (common for most plotting and basic analysis), it is generally acceptable to take either just the first column (start times) or the midpoint of the interval."
   ]
  },
  {
   "cell_type": "code",
   "execution_count": 8,
   "id": "3cc6cbd3-30f8-48b1-87fe-30992277f552",
   "metadata": {},
   "outputs": [],
   "source": [
    "# start times\n",
    "utime_1d = utime[:,0]\n",
    "\n",
    "# midpoints\n",
    "import numpy as np\n",
    "utime_1d = np.mean(utime, axis=1)"
   ]
  },
  {
   "cell_type": "markdown",
   "id": "75a03680-28dc-4ebc-9716-6bc88fbfd50b",
   "metadata": {},
   "source": [
    "To convert these unix timestamps to datetime objects, use either the native python [datetime](https://docs.python.org/3/library/datetime.html) library or the [numpy datetime](https://numpy.org/doc/stable/reference/arrays.datetime.html) functionality."
   ]
  },
  {
   "cell_type": "code",
   "execution_count": 9,
   "id": "fcf19997-3152-407c-891f-7c0a6bc50fd8",
   "metadata": {},
   "outputs": [],
   "source": [
    "import datetime as dt\n",
    "import numpy as np\n",
    "\n",
    "# native python datetime library\n",
    "time = [dt.datetime.utcfromtimestamp(ut) for ut in utime_1d]\n",
    "\n",
    "# numpy datetime\n",
    "time = utime_1d.astype('datetime64[s]')"
   ]
  },
  {
   "cell_type": "markdown",
   "id": "7a249504-f010-444b-9a3f-0280d3419ff8",
   "metadata": {},
   "source": [
    "## Geographic Position\n",
    "Geodetic latitude, longitude, and altitude of the center of each radar bin.\n",
    "\n",
    "**Dimensions:** Nbeams x Nranges"
   ]
  },
  {
   "cell_type": "code",
   "execution_count": 10,
   "id": "191968c3-8c41-463f-8c49-d17702f09be7",
   "metadata": {},
   "outputs": [
    {
     "name": "stdout",
     "output_type": "stream",
     "text": [
      "(11, 74) (11, 74) (11, 74)\n"
     ]
    }
   ],
   "source": [
    "glat = h5['Geomag/Latitude'][:]\n",
    "glon = h5['Geomag/Longitude'][:]\n",
    "galt = h5['Geomag/Altitude'][:]\n",
    "\n",
    "print(glat.shape, glon.shape, galt.shape)"
   ]
  },
  {
   "cell_type": "markdown",
   "id": "2b108261-aba0-41cd-a532-4c0fee995eaf",
   "metadata": {},
   "source": [
    "## Geomagnetic Position\n",
    "Geomagnetic latitude and longitude of the center of each radar bin.  If your application is dependent on highly accurate magnetic position relative to some outside dataset, it is recommended that you start with the geographic postion and calculate the conversion to magnetic coordinates yourself to avoid ambiguity with different magnetic coordinate systems and IGRF versions.\n",
    "\n",
    "**Dimensions:** Nbeams x Nranges"
   ]
  },
  {
   "cell_type": "code",
   "execution_count": 11,
   "id": "6ad4d752-393e-42d5-a043-df6514266607",
   "metadata": {},
   "outputs": [
    {
     "name": "stdout",
     "output_type": "stream",
     "text": [
      "(11, 74) (11, 74)\n"
     ]
    }
   ],
   "source": [
    "mlat = h5['Geomag/MagneticLatitude'][:]\n",
    "mlon = h5['Geomag/MagneticLongitude'][:]\n",
    "\n",
    "print(mlat.shape, mlon.shape)"
   ]
  },
  {
   "cell_type": "code",
   "execution_count": 12,
   "id": "f27f1bf4-c7c0-4649-82d1-77d43991fad1",
   "metadata": {},
   "outputs": [],
   "source": [
    "# Close h5 object\n",
    "h5.close()"
   ]
  },
  {
   "cell_type": "code",
   "execution_count": null,
   "id": "2a37dc33-9513-4049-b06b-08ff04856042",
   "metadata": {},
   "outputs": [],
   "source": []
  }
 ],
 "metadata": {
  "kernelspec": {
   "display_name": "Python 3 (ipykernel)",
   "language": "python",
   "name": "python3"
  },
  "language_info": {
   "codemirror_mode": {
    "name": "ipython",
    "version": 3
   },
   "file_extension": ".py",
   "mimetype": "text/x-python",
   "name": "python",
   "nbconvert_exporter": "python",
   "pygments_lexer": "ipython3",
   "version": "3.10.9"
  }
 },
 "nbformat": 4,
 "nbformat_minor": 5
}

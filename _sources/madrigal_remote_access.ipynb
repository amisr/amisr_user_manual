{
 "cells": [
  {
   "cell_type": "markdown",
   "id": "fd9785bf-6b14-467e-a35f-6d83dfb32e27",
   "metadata": {},
   "source": [
    "# Remote Access "
   ]
  },
  {
   "cell_type": "markdown",
   "id": "aff361c1-adea-45cb-9056-7e537084938a",
   "metadata": {},
   "source": [
    "Madrigal database can be accessed from python by using the Madrigal python remote data access API to download one or multiple experiments. "
   ]
  },
  {
   "cell_type": "code",
   "execution_count": 3,
   "id": "7c373d41-a977-440d-b9f1-decdcfdc8632",
   "metadata": {},
   "outputs": [],
   "source": [
    "import madrigalWeb.madrigalWeb"
   ]
  },
  {
   "cell_type": "code",
   "execution_count": 1,
   "id": "6f4dca93-25c0-470b-9daf-c0ab0b5aadfd",
   "metadata": {},
   "outputs": [],
   "source": [
    "#Credentials\n",
    "user_fullname = 'username'\n",
    "user_email = 'email@email.com'\n",
    "user_affiliation = 'ABC'"
   ]
  },
  {
   "cell_type": "code",
   "execution_count": 4,
   "id": "3db5d4b8-db7d-44bc-9df8-833f97aeed48",
   "metadata": {},
   "outputs": [],
   "source": [
    "madrigalUrl='http://cedar.openmadrigal.org'\n",
    "data = madrigalWeb.madrigalWeb.MadrigalData(madrigalUrl)"
   ]
  },
  {
   "cell_type": "markdown",
   "id": "5441931f-abcd-4502-8431-b6b929413383",
   "metadata": {},
   "source": [
    "Specify the Radar you want to access by its code and the timeframe for the experiment/experiments you want to retrieve.\n",
    "- PFISR radar code = 61\n",
    "- RISR-N radar code = 91"
   ]
  }
 ],
 "metadata": {
  "kernelspec": {
   "display_name": "Python 3 (ipykernel)",
   "language": "python",
   "name": "python3"
  },
  "language_info": {
   "codemirror_mode": {
    "name": "ipython",
    "version": 3
   },
   "file_extension": ".py",
   "mimetype": "text/x-python",
   "name": "python",
   "nbconvert_exporter": "python",
   "pygments_lexer": "ipython3",
   "version": "3.9.2"
  }
 },
 "nbformat": 4,
 "nbformat_minor": 5
}

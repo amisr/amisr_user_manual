{
 "cells": [
  {
   "cell_type": "markdown",
   "id": "fd9785bf-6b14-467e-a35f-6d83dfb32e27",
   "metadata": {},
   "source": [
    "# Remote Access "
   ]
  },
  {
   "cell_type": "markdown",
   "id": "aff361c1-adea-45cb-9056-7e537084938a",
   "metadata": {},
   "source": [
    "Madrigal database can be accessed from python by using the Madrigal python remote data access API to download one or multiple experiments. "
   ]
  },
  {
   "cell_type": "code",
   "execution_count": 19,
   "id": "7c373d41-a977-440d-b9f1-decdcfdc8632",
   "metadata": {},
   "outputs": [],
   "source": [
    "import madrigalWeb.madrigalWeb\n",
    "import os"
   ]
  },
  {
   "cell_type": "code",
   "execution_count": 20,
   "id": "6f4dca93-25c0-470b-9daf-c0ab0b5aadfd",
   "metadata": {},
   "outputs": [],
   "source": [
    "#Credentials\n",
    "user_fullname = 'Student Example' \n",
    "user_email = 'isr.summer.school@gmail.com' \n",
    "user_affiliation= 'ISR Summer School 2020'"
   ]
  },
  {
   "cell_type": "code",
   "execution_count": 21,
   "id": "3db5d4b8-db7d-44bc-9df8-833f97aeed48",
   "metadata": {},
   "outputs": [],
   "source": [
    "madrigalUrl='http://cedar.openmadrigal.org'\n",
    "data = madrigalWeb.madrigalWeb.MadrigalData(madrigalUrl)"
   ]
  },
  {
   "cell_type": "markdown",
   "id": "5441931f-abcd-4502-8431-b6b929413383",
   "metadata": {},
   "source": [
    "Specify the Radar you want to access by its code and the timeframe for the experiment/experiments you want to retrieve.\n",
    "- PFISR radar code = 61\n",
    "- RISR-N radar code = 91"
   ]
  },
  {
   "cell_type": "markdown",
   "id": "f1f5f378-9ee8-4ba2-9320-ba5a2d124413",
   "metadata": {},
   "source": [
    "To retrieve all radars,run the script: "
   ]
  },
  {
   "cell_type": "code",
   "execution_count": 22,
   "id": "d14d758b-e003-4a86-867f-feee54bb5c92",
   "metadata": {},
   "outputs": [],
   "source": [
    "code = 61 \n",
    "year = 2024\n",
    "month = 1\n",
    "day = 8\n",
    "hour1 = 7\n",
    "hour2 = 13\n",
    "min1 =1"
   ]
  },
  {
   "cell_type": "code",
   "execution_count": 23,
   "id": "2943c439-3242-4bdd-a7fd-a9c876045ae9",
   "metadata": {},
   "outputs": [],
   "source": [
    "expList = data.getExperiments(code,year,month,day,hour1,min1,0,year,month,day,hour2,0,0)"
   ]
  },
  {
   "cell_type": "code",
   "execution_count": 24,
   "id": "3f374377-f6ce-4c1e-852a-b1ec90b77849",
   "metadata": {},
   "outputs": [
    {
     "name": "stdout",
     "output_type": "stream",
     "text": [
      "id: 100278619\n",
      "realUrl: http://cedar.openmadrigal.org/showExperiment/?experiment_list=100278619\n",
      "url: http://cedar.openmadrigal.org/madtoc/experiments4/2024/pfa/08jan24a\n",
      "name: Themis36 - Auroral and convection measurements\n",
      "siteid: 10\n",
      "sitename: CEDAR\n",
      "instcode: 61\n",
      "instname: Poker Flat IS Radar\n",
      "startyear: 2024\n",
      "startmonth: 1\n",
      "startday: 8\n",
      "starthour: 7\n",
      "startmin: 1\n",
      "startsec: 4\n",
      "endyear: 2024\n",
      "endmonth: 1\n",
      "endday: 8\n",
      "endhour: 18\n",
      "endmin: 0\n",
      "endsec: 0\n",
      "isLocal: True\n",
      "madrigalUrl: http://cedar.openmadrigal.org/\n",
      "PI: Asti Bhatt\n",
      "PIEmail: asti.bhatt@sri.com\n",
      "uttimestamp: 1709109883\n",
      "access: 2\n",
      "Madrigal version: 3.2\n",
      "\n"
     ]
    }
   ],
   "source": [
    "for exp in expList:\n",
    "    print(str(exp))\n"
   ]
  },
  {
   "cell_type": "markdown",
   "id": "cfdb95a6-5630-4b14-ad8b-71200d21e919",
   "metadata": {},
   "source": [
    "Download the file"
   ]
  },
  {
   "cell_type": "code",
   "execution_count": 25,
   "id": "3331d35e-0d09-4d7e-931e-fa7df80ef6d3",
   "metadata": {},
   "outputs": [
    {
     "name": "stdout",
     "output_type": "stream",
     "text": [
      "pfa20240108.001_ac_nenotr_01min.001.h5 \t 1000201 \t Ne From Power - Alternating Code (E-region) - 1 min\n",
      "pfa20240108.001_ac_fit_01min.001.h5 \t 2000201 \t Fitted - Alternating Code (E-region) - 1 min\n",
      "pfa20240108.001_ac_nenotr_03min.001.h5 \t 1000203 \t Ne From Power - Alternating Code (E-region) - 3 min\n",
      "pfa20240108.001_ac_fit_03min.001.h5 \t 2000203 \t Fitted - Alternating Code (E-region) - 3 min\n",
      "pfa20240108.001_ac_nenotr_05min.001.h5 \t 1000205 \t Ne From Power - Alternating Code (E-region) - 5 min\n",
      "pfa20240108.001_ac_fit_05min.001.h5 \t 2000205 \t Fitted - Alternating Code (E-region) - 5 min\n",
      "pfa20240108.001_ac_nenotr_10min.001.h5 \t 1000210 \t Ne From Power - Alternating Code (E-region) - 10 min\n",
      "pfa20240108.001_ac_fit_10min.001.h5 \t 2000210 \t Fitted - Alternating Code (E-region) - 10 min\n",
      "pfa20240108.001_ac_nenotr_15min.001.h5 \t 1000215 \t Ne From Power - Alternating Code (E-region) - 15 min\n",
      "pfa20240108.001_ac_fit_15min.001.h5 \t 2000215 \t Fitted - Alternating Code (E-region) - 15 min\n",
      "pfa20240108.001_ac_nenotr_20min.001.h5 \t 1000220 \t Ne From Power - Alternating Code (E-region) - 20 min\n",
      "pfa20240108.001_ac_fit_20min.001.h5 \t 2000220 \t Fitted - Alternating Code (E-region) - 20 min\n",
      "pfa20240108.001_lp_nenotr_01min.001.h5 \t 1000101 \t Ne From Power - Long Pulse (F-region) - 1 min\n",
      "pfa20240108.001_lp_fit_01min.001.h5 \t 2000101 \t Fitted - Long Pulse (F-region) - 1 min\n",
      "pfa20240108.001_lp_nenotr_03min.001.h5 \t 1000103 \t Ne From Power - Long Pulse (F-region) - 3 min\n",
      "pfa20240108.001_lp_fit_03min.001.h5 \t 2000103 \t Fitted - Long Pulse (F-region) - 3 min\n",
      "pfa20240108.001_lp_nenotr_05min.001.h5 \t 1000105 \t Ne From Power - Long Pulse (F-region) - 5 min\n",
      "pfa20240108.001_lp_fit_05min.001.h5 \t 2000105 \t Fitted - Long Pulse (F-region) - 5 min\n",
      "pfa20240108.001_lp_nenotr_10min.001.h5 \t 1000110 \t Ne From Power - Long Pulse (F-region) - 10 min\n",
      "pfa20240108.001_lp_fit_10min.001.h5 \t 2000110 \t Fitted - Long Pulse (F-region) - 10 min\n",
      "pfa20240108.001_lp_nenotr_15min.001.h5 \t 1000115 \t Ne From Power - Long Pulse (F-region) - 15 min\n",
      "pfa20240108.001_lp_fit_15min.001.h5 \t 2000115 \t Fitted - Long Pulse (F-region) - 15 min\n",
      "pfa20240108.001_lp_nenotr_20min.001.h5 \t 1000120 \t Ne From Power - Long Pulse (F-region) - 20 min\n",
      "pfa20240108.001_lp_fit_20min.001.h5 \t 2000120 \t Fitted - Long Pulse (F-region) - 20 min\n",
      "pfa20240108.001_lp_vvels_01min.001.h5 \t 3000101 \t Resolved Velocity - Long Pulse (F-region) - 1 min\n",
      "pfa20240108.001_lp_vvels_03min.001.h5 \t 3000103 \t Resolved Velocity - Long Pulse (F-region) - 3 min\n",
      "pfa20240108.001_lp_vvels_05min.001.h5 \t 3000105 \t Resolved Velocity - Long Pulse (F-region) - 5 min\n"
     ]
    }
   ],
   "source": [
    "fileList = data.getExperimentFiles(expList[0].id)\n",
    "for file0 in fileList:\n",
    "    print(os.path.basename(file0.name),'\\t', file0.kindat, '\\t',file0.kindatdesc)"
   ]
  },
  {
   "cell_type": "code",
   "execution_count": 26,
   "id": "68930821-0bc7-4e24-b134-035a6b364d49",
   "metadata": {},
   "outputs": [
    {
     "name": "stdout",
     "output_type": "stream",
     "text": [
      "Downloading data file...\n",
      "...Done!\n"
     ]
    }
   ],
   "source": [
    "# Download the file that we need to run these examples\n",
    "os.makedirs('../data', exist_ok=True)\n",
    "filepath= '../data/pfa20240108.001_lp_fit_01min.001.h5 '\n",
    "\n",
    "if not os.path.exists(filepath):\n",
    "\n",
    "    fileList = data.getExperimentFiles(expList[0].id)\n",
    "    for file0 in fileList:\n",
    "        if file0.kindatdesc == 'Fitted - Long Pulse (F-region) - 1 min':\n",
    "            file2download = file0.name\n",
    "            break\n",
    "        \n",
    "    print('Downloading data file...')\n",
    "\n",
    "    file = data.downloadFile(file2download, filepath, \n",
    "                               user_fullname, user_email, user_affiliation,'hdf5')    \n",
    "    print('...Done!')\n",
    "\n",
    "else:\n",
    "    print(f\"File {filepath} already downloaded\")"
   ]
  },
  {
   "cell_type": "code",
   "execution_count": null,
   "id": "41bff702-33d4-4f7c-a268-844b2e24623f",
   "metadata": {},
   "outputs": [],
   "source": []
  },
  {
   "cell_type": "code",
   "execution_count": null,
   "id": "fbf4eaa9-6845-4df2-9683-bb8043fe54ad",
   "metadata": {},
   "outputs": [],
   "source": []
  },
  {
   "cell_type": "code",
   "execution_count": null,
   "id": "21e4ef77-8678-4a9e-b68e-ba5738c313d7",
   "metadata": {},
   "outputs": [],
   "source": []
  }
 ],
 "metadata": {
  "kernelspec": {
   "display_name": "Python 3 (ipykernel)",
   "language": "python",
   "name": "python3"
  },
  "language_info": {
   "codemirror_mode": {
    "name": "ipython",
    "version": 3
   },
   "file_extension": ".py",
   "mimetype": "text/x-python",
   "name": "python",
   "nbconvert_exporter": "python",
   "pygments_lexer": "ipython3",
   "version": "3.12.5"
  }
 },
 "nbformat": 4,
 "nbformat_minor": 5
}

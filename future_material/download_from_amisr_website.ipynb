{
 "cells": [
  {
   "cell_type": "markdown",
   "id": "d1694981-b0fc-4fe8-8a17-e57b01853883",
   "metadata": {},
   "source": [
    "# Download Data\n",
    "\n",
    "```{admonition} WIP\n",
    "This notebook is currently a work in progress, meaning it likely has incomplete explanations and some non-functional code/links/ect.  Please be patient!\n",
    "```\n",
    "\n",
    "Automatically download data from the AMISR Website.\n",
    "\n",
    "Author: Doga Ozturk"
   ]
  },
  {
   "cell_type": "code",
   "execution_count": 1,
   "id": "991a757e",
   "metadata": {},
   "outputs": [
    {
     "name": "stderr",
     "output_type": "stream",
     "text": [
      "/Users/dsozturk/Library/Python/3.8/lib/python/site-packages/pandas/core/computation/expressions.py:20: UserWarning: Pandas requires version '2.7.3' or newer of 'numexpr' (version '2.7.1' currently installed).\n",
      "  from pandas.core.computation.check import NUMEXPR_INSTALLED\n"
     ]
    }
   ],
   "source": [
    "import numpy as np\n",
    "import matplotlib.pyplot as plt\n",
    "from glob import glob\n",
    "import sys\n",
    "sys.path\n",
    "import os\n",
    "import datetime as dt\n",
    "import pandas as pd\n",
    "import matplotlib.dates as mdates\n",
    "myFmt = mdates.DateFormatter('%H:%M')\n",
    "import h5py\n",
    "import requests"
   ]
  },
  {
   "cell_type": "code",
   "execution_count": 2,
   "id": "164822c3",
   "metadata": {},
   "outputs": [],
   "source": [
    "def find_exp_extension(exp_link):\n",
    "    ext_list = []\n",
    "    for i in range(10):\n",
    "        try_link = exp_link+'.00{0:d}/'.format(i)\n",
    "        response = requests.get(try_link)\n",
    "        if response.status_code == 200:\n",
    "            ext = i\n",
    "        else:\n",
    "            ext = 404\n",
    "            print('No '+try_link+' experiment at this time.')\n",
    "        ext_list.append(ext)\n",
    "    return ext_list"
   ]
  },
  {
   "cell_type": "code",
   "execution_count": 3,
   "id": "6f6bc7bd",
   "metadata": {},
   "outputs": [],
   "source": [
    "def find_lp_time_res(exp_link, exp_time, ext_list):\n",
    "    lp_data_links = []\n",
    "    vvels_data_links = []\n",
    "    \n",
    "    for ext in ext_list:\n",
    "        lp_data_base = 'https://urldefense.us/v3/__https://data.amisr.com/database/dbase_site_media/PFISR/Experiments/*7B0:*Y*m*d*7D'.format(exp_time)*'.00*7B0:d*7D'.format(ext)*'/DataFiles/*7B0:*Y*m*d*7D'.format(exp_time)*'.00*7B0:d*7D'.format(ext)*'_lp_'*5Cn__;JSUlJSUrJSUrJSUlJSUrJSUrJQ!!Nv3xtKNH_4uope0!hjObzLJgdlF68DnBdXk7s2eah_BPzOV8ksVsnwer_O6lgna7o3h5qFJwMAP6x1Lc7MPD5SgZ9qJaYEFCDlGUzg$         lp_data_ext = 'min-cal.h5'\n",
    "        time_steps = [1, 3, 5, 10]\n",
    "        for res in time_steps:\n",
    "            lp_data_link = lp_data_base + '{0:d}'.format(res) + lp_data_ext\n",
    "            response = requests.get(lp_data_link)\n",
    "            if response.status_code == 200:\n",
    "                print('Time resolution for LP is ', res)\n",
    "                vvels_data_link = lp_data_link[:-3]+'-vvelsLat-{0:d}'.format(int(res*60))+'sec.h5'\n",
    "                response_vvels = requests.get(vvels_data_link)\n",
    "                if response_vvels.status_code == 200:\n",
    "                    print('VVels for experiment found.')\n",
    "                else:\n",
    "                    vvels_data_link = 404\n",
    "                break\n",
    "            else:\n",
    "                lp_data_link = 404\n",
    "                vvels_data_link = 404\n",
    "        lp_data_links.append(lp_data_link)\n",
    "        vvels_data_links.append(vvels_data_link)\n",
    "        \n",
    "    return lp_data_links, vvels_data_links\n",
    "    "
   ]
  },
  {
   "cell_type": "code",
   "execution_count": 4,
   "id": "c124abfc",
   "metadata": {},
   "outputs": [],
   "source": [
    "def find_ac_time_res(exp_link, exp_time, ext_list):\n",
    "    ac_data_links = []\n",
    "    for ext in ext_list:\n",
    "        ac_data_base = 'https://urldefense.us/v3/__https://data.amisr.com/database/dbase_site_media/PFISR/Experiments/*7B0:*Y*m*d*7D'.format(exp_time)*'.00*7B0:d*7D'.format(ext)*'/DataFiles/*7B0:*Y*m*d*7D'.format(exp_time)*'.00*7B0:d*7D'.format(ext)*'_ac_'*5Cn__;JSUlJSUrJSUrJSUlJSUrJSUrJQ!!Nv3xtKNH_4uope0!hjObzLJgdlF68DnBdXk7s2eah_BPzOV8ksVsnwer_O6lgna7o3h5qFJwMAP6x1Lc7MPD5SgZ9qJaYEEvxqxgyg$         ac_data_ext = 'min-cal.h5'\n",
    "        time_steps = [1, 3, 5, 10]\n",
    "        for res in time_steps:\n",
    "            ac_data_link = ac_data_base + '{0:d}'.format(res) + ac_data_ext\n",
    "            response = requests.get(ac_data_link)\n",
    "            if response.status_code == 200:\n",
    "                print('Time resolution for AC is ', res)\n",
    "                break\n",
    "            else:\n",
    "                ac_data_link = 404\n",
    "        ac_data_links.append(ac_data_link)\n",
    "    return ac_data_links"
   ]
  },
  {
   "cell_type": "code",
   "execution_count": 5,
   "id": "8aa7ea9c",
   "metadata": {},
   "outputs": [],
   "source": [
    "conjunctions = pd.read_csv('./THEMIS_PFISR_conjunctions.csv')\n",
    "conjunctions.StartTime = pd.to_datetime(conjunctions.StartTime)\n",
    "conjunctions.StopTime = pd.to_datetime(conjunctions.StopTime)"
   ]
  },
  {
   "cell_type": "code",
   "execution_count": 6,
   "id": "73dc1cad",
   "metadata": {},
   "outputs": [],
   "source": [
    "conjunctions[\"LP_data\"] = 'no'\n",
    "conjunctions[\"VVels_data\"] = 'no'\n",
    "conjunctions[\"AC_data\"] = 'no'"
   ]
  },
  {
   "cell_type": "code",
   "execution_count": 7,
   "id": "99e4fff4",
   "metadata": {},
   "outputs": [],
   "source": [
    "base_url = 'https://urldefense.us/v3/__https://data.amisr.com/database/61/experiment/__;!!Nv3xtKNH_4uope0!hjObzLJgdlF68DnBdXk7s2eah_BPzOV8ksVsnwer_O6lgna7o3h5qFJwMAP6x1Lc7MPD5SgZ9qJaYEHjlyq1ag$ '"
   ]
  },
  {
   "cell_type": "code",
   "execution_count": null,
   "id": "5b60507e",
   "metadata": {},
   "outputs": [
    {
     "name": "stdout",
     "output_type": "stream",
     "text": [
      "No https://urldefense.us/v3/__https://data.amisr.com/database/61/experiment/20121003.000/__;!!Nv3xtKNH_4uope0!hjObzLJgdlF68DnBdXk7s2eah_BPzOV8ksVsnwer_O6lgna7o3h5qFJwMAP6x1Lc7MPD5SgZ9qJaYEExFofbvA$  experiment at this time.\n",
      "No https://urldefense.us/v3/__https://data.amisr.com/database/61/experiment/20121003.004/__;!!Nv3xtKNH_4uope0!hjObzLJgdlF68DnBdXk7s2eah_BPzOV8ksVsnwer_O6lgna7o3h5qFJwMAP6x1Lc7MPD5SgZ9qJaYEEnc0g7Qw$  experiment at this time.\n",
      "No https://urldefense.us/v3/__https://data.amisr.com/database/61/experiment/20121003.005/__;!!Nv3xtKNH_4uope0!hjObzLJgdlF68DnBdXk7s2eah_BPzOV8ksVsnwer_O6lgna7o3h5qFJwMAP6x1Lc7MPD5SgZ9qJaYEGSEriGDw$  experiment at this time.\n",
      "No https://urldefense.us/v3/__https://data.amisr.com/database/61/experiment/20121003.006/__;!!Nv3xtKNH_4uope0!hjObzLJgdlF68DnBdXk7s2eah_BPzOV8ksVsnwer_O6lgna7o3h5qFJwMAP6x1Lc7MPD5SgZ9qJaYEGNphBMvg$  experiment at this time.\n",
      "No https://urldefense.us/v3/__https://data.amisr.com/database/61/experiment/20121003.007/__;!!Nv3xtKNH_4uope0!hjObzLJgdlF68DnBdXk7s2eah_BPzOV8ksVsnwer_O6lgna7o3h5qFJwMAP6x1Lc7MPD5SgZ9qJaYEEheVQr2A$  experiment at this time.\n",
      "No https://urldefense.us/v3/__https://data.amisr.com/database/61/experiment/20121003.008/__;!!Nv3xtKNH_4uope0!hjObzLJgdlF68DnBdXk7s2eah_BPzOV8ksVsnwer_O6lgna7o3h5qFJwMAP6x1Lc7MPD5SgZ9qJaYEE1PSJvyg$  experiment at this time.\n",
      "No https://urldefense.us/v3/__https://data.amisr.com/database/61/experiment/20121003.009/__;!!Nv3xtKNH_4uope0!hjObzLJgdlF68DnBdXk7s2eah_BPzOV8ksVsnwer_O6lgna7o3h5qFJwMAP6x1Lc7MPD5SgZ9qJaYEEoJw8N9Q$  experiment at this time.\n"
     ]
    }
   ],
   "source": [
    "lp_link_list = []\n",
    "ac_link_list = []\n",
    "vvels_link_list = []\n",
    "\n",
    "for i in range(conjunctions.shape[0]):\n",
    "    exp_link = base_url + '{0:%Y%m%d}'.format(conjunctions.StartTime.iloc[i])\n",
    "    ext_list = find_exp_extension(exp_link)\n",
    "    lp_links, vvels_links = find_lp_time_res(exp_link, conjunctions.StartTime.iloc[i], ext_list)\n",
    "    ac_links = find_ac_time_res(exp_link, conjunctions.StartTime.iloc[i], ext_list)\n",
    "    \n",
    "    if lp_links != 404:\n",
    "        conjunctions.LP_data.iloc[i] = 'yes'\n",
    "    if vvels_links != 404:\n",
    "        conjunctions.VVels_data.iloc[i] = 'yes'\n",
    "    if ac_links != 404:\n",
    "        conjunctions.AC_data.iloc[i] = 'yes'\n",
    "        \n",
    "    lp_links.append(lp_link)\n",
    "    ac_links.append(ac_link)\n",
    "    vvels_links.append(vvels_link)"
   ]
  },
  {
   "cell_type": "code",
   "execution_count": null,
   "id": "76d43a30",
   "metadata": {},
   "outputs": [],
   "source": [
    "vvels_links != 404"
   ]
  },
  {
   "cell_type": "code",
   "execution_count": null,
   "id": "55eebeeb",
   "metadata": {},
   "outputs": [],
   "source": [
    "conjunctions"
   ]
  },
  {
   "cell_type": "code",
   "execution_count": null,
   "id": "5c049caf",
   "metadata": {},
   "outputs": [],
   "source": []
  }
 ],
 "metadata": {
  "kernelspec": {
   "display_name": "Python 3 (ipykernel)",
   "language": "python",
   "name": "python3"
  },
  "language_info": {
   "codemirror_mode": {
    "name": "ipython",
    "version": 3
   },
   "file_extension": ".py",
   "mimetype": "text/x-python",
   "name": "python",
   "nbconvert_exporter": "python",
   "pygments_lexer": "ipython3",
   "version": "3.10.9"
  }
 },
 "nbformat": 4,
 "nbformat_minor": 5
}

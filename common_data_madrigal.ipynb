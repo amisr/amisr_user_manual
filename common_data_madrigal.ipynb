{
 "cells": [
  {
   "cell_type": "markdown",
   "id": "7568a498-651b-42ad-b14c-1e5d3efd76f8",
   "metadata": {},
   "source": [
    "# Common Data Fields\n",
    "This notebook will walk through how to access some of the more common data fields from the Madrigal hdf5 data files.  This should be treated as a quick reference for common scientific applications and is NOT intended to be a comprehensive map of everything in these files.  Refer to metadata contained within the files for descriptions of other arrays."
   ]
  },
  {
   "cell_type": "code",
   "execution_count": 11,
   "id": "b3dcde56-e856-4dd4-9c16-03ec7ae18bc5",
   "metadata": {},
   "outputs": [],
   "source": [
    "import h5py\n",
    "import madrigalWeb.madrigalWeb\n",
    "import os\n",
    "import numpy as np"
   ]
  },
  {
   "cell_type": "code",
   "execution_count": 12,
   "id": "e9e18909-9526-4313-9c8a-bcd21b324a1d",
   "metadata": {},
   "outputs": [],
   "source": [
    "# Download the file that we need to run these examples\n",
    "filename = 'data/pfa20240108.001_lp_fit_01min.001.h5'\n",
    "if not os.path.exists(filename):\n",
    "    madrigalUrl='http://cedar.openmadrigal.org'\n",
    "    data = madrigalWeb.madrigalWeb.MadrigalData(madrigalUrl)\n",
    "    user_fullname = 'Student Example' \n",
    "    user_email = 'isr.summer.school@gmail.com' \n",
    "    user_affiliation= 'ISR Summer School 2020'\n",
    "        \n",
    "    url='/opt/cedar3/experiments4/2024/pfa/08jan24a/pfa20240108.001_lp_fit_01min.001.h5'\n",
    "    print('Downloading data file...')\n",
    "\n",
    "    file = data.downloadFile(url, filename, \n",
    "                               user_fullname, user_email, user_affiliation,'hdf5')    \n",
    "    print('...Done!')"
   ]
  },
  {
   "cell_type": "code",
   "execution_count": 13,
   "id": "8eef37ac-e0df-4957-bceb-96dca94b898d",
   "metadata": {},
   "outputs": [],
   "source": [
    "h5 = h5py.File(filename, 'r')"
   ]
  },
  {
   "cell_type": "code",
   "execution_count": 14,
   "id": "61d63250-c6be-4944-9436-ac9590596b29",
   "metadata": {},
   "outputs": [
    {
     "name": "stdout",
     "output_type": "stream",
     "text": [
      "['Data', 'Metadata']\n",
      "\n",
      "['Array Layout', 'Table Layout']\n",
      "\n",
      "['Data Parameters', 'Experiment Notes', 'Experiment Parameters', 'Independent Spatial Parameters', 'Parameters Used to Split Array Data', '_record_layout']\n",
      "\n",
      "['Array with beamid=63149 ', 'Array with beamid=63197 ', 'Array with beamid=63239 ', 'Array with beamid=63281 ', 'Array with beamid=63317 ', 'Array with beamid=63365 ', 'Array with beamid=63401 ', 'Array with beamid=63449 ', 'Array with beamid=64016 ', 'Array with beamid=64031 ', 'Array with beamid=64046 ', 'Array with beamid=64067 ', 'Array with beamid=64157 ', 'Array with beamid=64163 ', 'Array with beamid=64205 ', 'Array with beamid=64232 ', 'Array with beamid=64247 ', 'Array with beamid=64475 ', 'Array with beamid=64817 ', 'Array with beamid=64973 ', 'Array with beamid=65057 ', 'Array with beamid=65282 ', 'Array with beamid=65363 ']\n"
     ]
    }
   ],
   "source": [
    "with h5py.File(filename, 'r') as h5:\n",
    "    print(list(h5.keys()))\n",
    "    print()\n",
    "    print(list(h5['Data'].keys()))\n",
    "    print()\n",
    "    print(list(h5['Metadata'].keys()))\n",
    "    print()\n",
    "    print(list(h5['Data']['Array Layout']))"
   ]
  },
  {
   "cell_type": "code",
   "execution_count": 15,
   "id": "08f708c2-a03b-4667-9681-fc5426895b1d",
   "metadata": {},
   "outputs": [
    {
     "name": "stdout",
     "output_type": "stream",
     "text": [
      "0 Year (universal time) [y]\n",
      "1 Month (universal time) [m]\n",
      "2 Day (universal time) [d]\n",
      "3 Hour (universal time) [h]\n",
      "4 Minute (universal time) [m]\n",
      "5 Second (universal time) [s]\n",
      "6 Logical Record Number [N/A]\n",
      "7 Kind of data [N/A]\n",
      "8 Instrument Code [N/A]\n",
      "9 Unix seconds (1/1/1970) at start [s]\n",
      "10 Unix seconds (1/1/1970) at end [s]\n",
      "11 Mean azimuth angle (0=geog N;90=east) [deg]\n",
      "12 Elevation angle (0=horizontal;90=vert) [deg]\n",
      "13 Beam identifier [N/A]\n",
      "14 Peak power [kW]\n",
      "15 Average number of transmit AEUs used [N/A]\n",
      "16 Average number of receive AEUs used [N/A]\n",
      "17 Code baud count per pulse [N/A]\n",
      "18 Pulse length [s]\n",
      "19 Transmitted frequency [Hz]\n",
      "20 Received frequency [Hz]\n",
      "21 Range [km]\n",
      "22 Electron density (Ne) [m-3]\n",
      "23 Error in Electron density (Ne) [m-3]\n",
      "24 Ion temperature (Ti) [K]\n",
      "25 Error in Ion temperature (Ti) [K]\n",
      "26 Electron temperature (Te) [K]\n",
      "27 Error in Electron temperature (Te) [K]\n",
      "28 Line of sight ion velocity (pos = away) [ms-1]\n",
      "29 Error in Line of sight ion velocity (pos = away) [ms-1]\n",
      "30 Corrected Geomagnetic latitude [deg]\n",
      "31 Corrected Geomagnetic Longitude [deg]\n",
      "32 Composition - [O+]/Ne [N/A]\n",
      "33 Error in Composition - [O+]/Ne [N/A]\n",
      "34 Reduced-chi square of fit [N/A]\n",
      "35 Signal to noise ratio [N/A]\n"
     ]
    }
   ],
   "source": [
    "with h5py.File(filename, 'r') as h5:\n",
    "    for i in range(len(np.array(h5['Metadata/Data Parameters']))):\n",
    "        print(i, h5['Metadata/Data Parameters'][i][1].decode('utf-8'), f\"[{h5['Metadata/Data Parameters'][i][3].decode('utf-8')}]\")\n"
   ]
  },
  {
   "cell_type": "markdown",
   "id": "9e4ecb25-6d77-4f89-bb43-ea953ac71624",
   "metadata": {},
   "source": [
    "We will mostly be dealing with the Array Layout, which is organized by beam."
   ]
  },
  {
   "cell_type": "code",
   "execution_count": 16,
   "id": "7250fb99-884f-4864-9f41-2f8e765dfd36",
   "metadata": {},
   "outputs": [
    {
     "name": "stdout",
     "output_type": "stream",
     "text": [
      "['Array with beamid=63149 ', 'Array with beamid=63197 ', 'Array with beamid=63239 ', 'Array with beamid=63281 ', 'Array with beamid=63317 ', 'Array with beamid=63365 ', 'Array with beamid=63401 ', 'Array with beamid=63449 ', 'Array with beamid=64016 ', 'Array with beamid=64031 ', 'Array with beamid=64046 ', 'Array with beamid=64067 ', 'Array with beamid=64157 ', 'Array with beamid=64163 ', 'Array with beamid=64205 ', 'Array with beamid=64232 ', 'Array with beamid=64247 ', 'Array with beamid=64475 ', 'Array with beamid=64817 ', 'Array with beamid=64973 ', 'Array with beamid=65057 ', 'Array with beamid=65282 ', 'Array with beamid=65363 ']\n",
      "\n"
     ]
    }
   ],
   "source": [
    "with h5py.File(filename, 'r') as h5:\n",
    "    print(list(h5['Data']['Array Layout']))\n",
    "    print()"
   ]
  },
  {
   "cell_type": "code",
   "execution_count": 17,
   "id": "e4c9bb50-8b3f-4dd4-a5e5-fce7d9877019",
   "metadata": {},
   "outputs": [
    {
     "name": "stdout",
     "output_type": "stream",
     "text": [
      "['1D Parameters', '2D Parameters', 'Layout Description', 'range', 'timestamps']\n",
      "\n",
      "['Data Parameters', 'cgm_lat', 'cgm_long', 'chisq', 'dne', 'dpo+', 'dte', 'dti', 'dvo', 'ne', 'po+', 'sn', 'te', 'ti', 'vo']\n",
      "\n",
      "['Data Parameters', 'azm', 'beamid', 'cbadl', 'elm', 'numrxaeu', 'numtxaeu', 'pl', 'power', 'rfreq', 'tfreq']\n",
      "\n"
     ]
    }
   ],
   "source": [
    "with h5py.File(filename, 'r') as h5:\n",
    "    print(list(h5['Data/Array Layout']['Array with beamid=63149 '].keys()))\n",
    "    print()\n",
    "    print(list(h5['Data/Array Layout']['Array with beamid=63149 ']['2D Parameters'].keys()))\n",
    "    print()\n",
    "    print(list(h5['Data/Array Layout']['Array with beamid=63149 ']['1D Parameters']))\n",
    "    print()"
   ]
  },
  {
   "cell_type": "markdown",
   "id": "4edc4000-9772-4480-a569-2eb4949f3e1f",
   "metadata": {},
   "source": [
    "## Electron Density\n",
    "\n",
    "**Units:** m$^{-3}$\n",
    "\n",
    "**Dimensions:** Nbeams x Nranges x Nrecords "
   ]
  },
  {
   "cell_type": "markdown",
   "id": "1c819741-de83-4d33-84ce-24eb5b5336fc",
   "metadata": {},
   "source": [
    "- Nrecords: Number of time records\n",
    "- Nbeams: Number of radar beams\n",
    "- Nranges: Number of radar range gates"
   ]
  },
  {
   "cell_type": "code",
   "execution_count": 18,
   "id": "ccf58f78-2e52-4dfc-8ede-50505fe65999",
   "metadata": {},
   "outputs": [
    {
     "data": {
      "text/plain": [
       "(23, 73, 543)"
      ]
     },
     "execution_count": 18,
     "metadata": {},
     "output_type": "execute_result"
    }
   ],
   "source": [
    "with h5py.File(filename, 'r') as h5:\n",
    "    ne = []\n",
    "    for key in h5['Data/Array Layout'].keys():\n",
    "        ne.append(np.array(h5['Data/Array Layout'][key]['2D Parameters']['ne']))\n",
    "    ne = np.array(ne)\n",
    "ne.shape"
   ]
  },
  {
   "cell_type": "markdown",
   "id": "6c6b149e-a4cc-4f46-ac1e-bed40c737f3c",
   "metadata": {},
   "source": [
    "## Ion Temperature\n",
    "\n",
    "**Units:** K\n",
    "\n",
    "**Dimensions:** Nbeams x Nranges x Nrecords "
   ]
  },
  {
   "cell_type": "code",
   "execution_count": 19,
   "id": "321796a2-9b40-4a0e-8b34-428aa6172511",
   "metadata": {},
   "outputs": [
    {
     "data": {
      "text/plain": [
       "(23, 73, 543)"
      ]
     },
     "execution_count": 19,
     "metadata": {},
     "output_type": "execute_result"
    }
   ],
   "source": [
    "with h5py.File(filename, 'r') as h5:\n",
    "    ti = []\n",
    "    for key in h5['Data/Array Layout'].keys():\n",
    "        ti.append(np.array(h5['Data/Array Layout'][key]['2D Parameters']['ti']))\n",
    "    ti = np.array(ti)\n",
    "ti.shape"
   ]
  },
  {
   "cell_type": "markdown",
   "id": "00b09b9d-f668-4f53-b378-45aff183a1bf",
   "metadata": {
    "tags": []
   },
   "source": [
    "## Electron Temperature\n",
    "\n",
    "**Units:** K\n",
    "\n",
    "**Dimensions:** Nbeams x Nranges x Nrecords "
   ]
  },
  {
   "cell_type": "code",
   "execution_count": 20,
   "id": "d5861d8c-6ea9-439d-b2cd-d32f61ad51ec",
   "metadata": {},
   "outputs": [
    {
     "data": {
      "text/plain": [
       "(23, 73, 543)"
      ]
     },
     "execution_count": 20,
     "metadata": {},
     "output_type": "execute_result"
    }
   ],
   "source": [
    "with h5py.File(filename, 'r') as h5:\n",
    "    te = []\n",
    "    for key in h5['Data/Array Layout'].keys():\n",
    "        te.append(np.array(h5['Data/Array Layout'][key]['2D Parameters']['te']))\n",
    "    te = np.array(te)\n",
    "te.shape"
   ]
  },
  {
   "cell_type": "markdown",
   "id": "2f645b19-cf3c-40f1-97f1-d384b8d9f5a3",
   "metadata": {},
   "source": [
    "## Line-of-Sight Velocity\n",
    "\n",
    "**Units:** m/s\n",
    "\n",
    "**Dimensions:** Nbeams x Nranges x Nrecords "
   ]
  },
  {
   "cell_type": "code",
   "execution_count": 21,
   "id": "10effd79-0a95-49f2-bb90-6c6919d6007c",
   "metadata": {},
   "outputs": [
    {
     "data": {
      "text/plain": [
       "(23, 73, 543)"
      ]
     },
     "execution_count": 21,
     "metadata": {},
     "output_type": "execute_result"
    }
   ],
   "source": [
    "with h5py.File(filename, 'r') as h5:\n",
    "    Vlos = []\n",
    "    for key in h5['Data/Array Layout'].keys():\n",
    "        Vlos.append(np.array(h5['Data/Array Layout'][key]['2D Parameters']['vo']))\n",
    "    Vlos = np.array(Vlos)\n",
    "Vlos.shape"
   ]
  },
  {
   "cell_type": "markdown",
   "id": "371764c3-634b-4103-8d9b-60f8eae48427",
   "metadata": {},
   "source": [
    "## Time\n",
    "The `Time` group lists timestamps in a variety of formats, but `UnixTime` (seconds from January 1, 1970) is often most convenient for programming purposes.\n",
    "\n",
    "**Dimensions:** Nbeams x Nrecords "
   ]
  },
  {
   "cell_type": "code",
   "execution_count": 22,
   "id": "1ed95be6-9027-470c-8268-11527ea96a0e",
   "metadata": {},
   "outputs": [
    {
     "data": {
      "text/plain": [
       "(23, 543)"
      ]
     },
     "execution_count": 22,
     "metadata": {},
     "output_type": "execute_result"
    }
   ],
   "source": [
    "with h5py.File(filename, 'r') as h5:\n",
    "    time = []\n",
    "    for key in h5['Data/Array Layout'].keys():\n",
    "        time.append(np.array(h5['Data/Array Layout'][key]['timestamps']))\n",
    "    time = np.array(time)\n",
    "time.shape"
   ]
  },
  {
   "cell_type": "markdown",
   "id": "26386b61-620e-48ef-a48c-e67be54ad835",
   "metadata": {},
   "source": [
    "## Range [m]"
   ]
  },
  {
   "cell_type": "markdown",
   "id": "7f77347e-6df9-43c8-af7a-319dd04df5a0",
   "metadata": {},
   "source": [
    "**Dimensions:** Nranges"
   ]
  },
  {
   "cell_type": "code",
   "execution_count": 23,
   "id": "ed3bd822-995b-4b08-9795-e5d868fbdbc7",
   "metadata": {},
   "outputs": [
    {
     "data": {
      "text/plain": [
       "(73,)"
      ]
     },
     "execution_count": 23,
     "metadata": {},
     "output_type": "execute_result"
    }
   ],
   "source": [
    "with h5py.File(filename, 'r') as h5:\n",
    "    rng = np.array(h5['Data/Array Layout']['Array with beamid=63149 ']['range'])\n",
    "rng.shape"
   ]
  },
  {
   "cell_type": "markdown",
   "id": "7a249504-f010-444b-9a3f-0280d3419ff8",
   "metadata": {},
   "source": [
    "## Geographic Position [deg]\n",
    "Corrected Geomagnetic Latitude and Corrected Geomagnetic Longitude.\n",
    "\n",
    "**Dimensions:** Nbeams x Nranges x Nrecords "
   ]
  },
  {
   "cell_type": "code",
   "execution_count": 24,
   "id": "191968c3-8c41-463f-8c49-d17702f09be7",
   "metadata": {},
   "outputs": [
    {
     "data": {
      "text/plain": [
       "(23, 73, 543)"
      ]
     },
     "execution_count": 24,
     "metadata": {},
     "output_type": "execute_result"
    }
   ],
   "source": [
    "with h5py.File(filename, 'r') as h5:\n",
    "    cgm_lat = []\n",
    "    cgm_long = []\n",
    "    for key in h5['Data/Array Layout'].keys():\n",
    "        cgm_lat.append(np.array(h5['Data/Array Layout'][key]['2D Parameters']['cgm_lat']))\n",
    "        cgm_long.append(np.array(h5['Data/Array Layout'][key]['2D Parameters']['cgm_long']))\n",
    "    cgm_lat = np.array(cgm_lat)\n",
    "    cgm_long = np.array(cgm_long)\n",
    "    \n",
    "cgm_lat.shape"
   ]
  },
  {
   "cell_type": "markdown",
   "id": "d80c7ef2-b4c1-42e8-b4a1-11c506b728e1",
   "metadata": {},
   "source": [
    "## Beam Positions\n",
    "The beam azimuths and elevations are contained in the 1D Parameters array.\n",
    "\n",
    "**Dimensions:** Nbeams"
   ]
  },
  {
   "cell_type": "code",
   "execution_count": 25,
   "id": "58a51530-f3fd-4ec5-b8ff-b6f84a70bfb7",
   "metadata": {},
   "outputs": [
    {
     "data": {
      "text/plain": [
       "(23,)"
      ]
     },
     "execution_count": 25,
     "metadata": {},
     "output_type": "execute_result"
    }
   ],
   "source": [
    "with h5py.File(filename, 'r') as h5:\n",
    "    elm = []\n",
    "    azm = []\n",
    "    for key in h5['Data/Array Layout'].keys():\n",
    "        elm.append(np.array(h5['Data/Array Layout'][key]['1D Parameters']['elm'][0]))\n",
    "        azm.append(np.array(h5['Data/Array Layout'][key]['1D Parameters']['azm'][0]))\n",
    "    elm = np.array(elm)\n",
    "    azm = np.array(azm)\n",
    "elm.shape  "
   ]
  },
  {
   "cell_type": "markdown",
   "id": "ee04c8c7-d27b-4639-b8d3-7f3fdc06f9ce",
   "metadata": {},
   "source": [
    "## Site Info\n",
    "Various information about the radar site and its coordinates are contained within the Site group."
   ]
  },
  {
   "cell_type": "code",
   "execution_count": 26,
   "id": "cc2d6887-4169-4bb9-862b-9410a128da5c",
   "metadata": {},
   "outputs": [
    {
     "name": "stdout",
     "output_type": "stream",
     "text": [
      "Site Name: Poker Flat IS Radar\n",
      "Instrument Latitude: 65.13\n",
      "Instrument Longitude: 212.529\n",
      "Instrument Altitude: 0.215\n"
     ]
    }
   ],
   "source": [
    "with h5py.File(filename, 'r') as h5:\n",
    "    param = list(h5['Metadata']['Experiment Parameters'])\n",
    "\n",
    "print('Site Name:', param[0][1].decode('utf-8'))\n",
    "print('Instrument Latitude:', param[8][1].decode('utf-8'))\n",
    "print('Instrument Longitude:', param[9][1].decode('utf-8'))\n",
    "print('Instrument Altitude:', param[10][1].decode('utf-8'))\n"
   ]
  },
  {
   "cell_type": "code",
   "execution_count": 27,
   "id": "f27f1bf4-c7c0-4649-82d1-77d43991fad1",
   "metadata": {},
   "outputs": [],
   "source": [
    "# Close h5 object\n",
    "h5.close()"
   ]
  },
  {
   "cell_type": "code",
   "execution_count": null,
   "id": "8c78a009-d7ca-4bd0-b523-35e7efe88d50",
   "metadata": {},
   "outputs": [],
   "source": []
  }
 ],
 "metadata": {
  "kernelspec": {
   "display_name": "Python 3 (ipykernel)",
   "language": "python",
   "name": "python3"
  },
  "language_info": {
   "codemirror_mode": {
    "name": "ipython",
    "version": 3
   },
   "file_extension": ".py",
   "mimetype": "text/x-python",
   "name": "python",
   "nbconvert_exporter": "python",
   "pygments_lexer": "ipython3",
   "version": "3.9.2"
  }
 },
 "nbformat": 4,
 "nbformat_minor": 5
}

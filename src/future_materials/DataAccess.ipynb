{
 "cells": [
  {
   "cell_type": "markdown",
   "id": "4f6ca4a6-2c85-4a7f-814b-7e5c366d9bd0",
   "metadata": {},
   "source": [
    "# Data Access\n",
    "There are two ways to access AMISR data - Madrigal and directly from the PI institutions websities."
   ]
  },
  {
   "cell_type": "markdown",
   "id": "f133e702-c892-4542-bd30-b41570567543",
   "metadata": {},
   "source": [
    "## Madrigal\n",
    "The Madrigal database is the main database for CEDAR data.  It contains data from a variety of sources beyond ISR data and most data is stored in a common format.\n",
    "\n",
    "The Madrigal database is available at: [insert madrigal link]"
   ]
  },
  {
   "cell_type": "markdown",
   "id": "c552b66c-c158-45bb-8ce1-d1a43de6bfe0",
   "metadata": {},
   "source": [
    "## SRI Database\n",
    "The SRI database contains data from PFISR and RISR-N.\n",
    "\n",
    "The SRI database is available at: [insert sri link]"
   ]
  },
  {
   "cell_type": "markdown",
   "id": "59fdc01a-c815-4db7-aaef-b88f047e9b86",
   "metadata": {},
   "source": [
    "## UCalgary Database\n",
    "\n",
    "The University of Calgary database contains data from RISR-C.\n",
    "\n",
    "The UCalgary database is available at: [insert ucalgary link]"
   ]
  },
  {
   "cell_type": "code",
   "execution_count": null,
   "id": "567867b2-d4fd-42cf-a4d3-50b797c286f1",
   "metadata": {},
   "outputs": [],
   "source": []
  }
 ],
 "metadata": {
  "kernelspec": {
   "display_name": "Python 3 (ipykernel)",
   "language": "python",
   "name": "python3"
  },
  "language_info": {
   "codemirror_mode": {
    "name": "ipython",
    "version": 3
   },
   "file_extension": ".py",
   "mimetype": "text/x-python",
   "name": "python",
   "nbconvert_exporter": "python",
   "pygments_lexer": "ipython3",
   "version": "3.10.9"
  }
 },
 "nbformat": 4,
 "nbformat_minor": 5
}
